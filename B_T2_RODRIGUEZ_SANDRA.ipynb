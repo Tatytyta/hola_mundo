{
  "nbformat": 4,
  "nbformat_minor": 0,
  "metadata": {
    "colab": {
      "provenance": [],
      "authorship_tag": "ABX9TyMhVpWxhBXcfUB9x+AIDNk0",
      "include_colab_link": true
    },
    "kernelspec": {
      "name": "python3",
      "display_name": "Python 3"
    },
    "language_info": {
      "name": "python"
    }
  },
  "cells": [
    {
      "cell_type": "markdown",
      "metadata": {
        "id": "view-in-github",
        "colab_type": "text"
      },
      "source": [
        "<a href=\"https://colab.research.google.com/github/Tatytyta/hola_mundo/blob/main/B_T2_RODRIGUEZ_SANDRA.ipynb\" target=\"_parent\"><img src=\"https://colab.research.google.com/assets/colab-badge.svg\" alt=\"Open In Colab\"/></a>"
      ]
    },
    {
      "cell_type": "code",
      "execution_count": 5,
      "metadata": {
        "colab": {
          "base_uri": "https://localhost:8080/"
        },
        "id": "KF23brVUgkhs",
        "outputId": "e75f76cf-7e5e-401f-efd2-55db11a87c8a"
      },
      "outputs": [
        {
          "output_type": "stream",
          "name": "stdout",
          "text": [
            "hola mundo\n"
          ]
        }
      ],
      "source": [
        "##Hola Mundo: Escribe un programa que imprima \"Hola, Mundo!\" en la pantalla.\n",
        "print(\"hola mundo\")"
      ]
    },
    {
      "cell_type": "markdown",
      "source": [],
      "metadata": {
        "id": "M2ZCq14akqNB"
      }
    },
    {
      "cell_type": "code",
      "source": [
        "####Suma de dos números: Escribe un programa que pida al usuario dos números y los sume.\n",
        "# Solicitar al usuario que ingrese dos números\n",
        "a= int(input(\"Ingrese el primer número:\"))\n",
        "b= int(input(\"Ingrese el segundo número:\"))\n",
        "    # Sumar los dos números\n",
        "suma = a + b\n",
        "    # Mostrar el resultado\n",
        "print(suma)\n",
        ""
      ],
      "metadata": {
        "colab": {
          "base_uri": "https://localhost:8080/"
        },
        "id": "b-0prgekkgGE",
        "outputId": "5728e35f-542c-4321-b0cd-2683bd368ffc"
      },
      "execution_count": 17,
      "outputs": [
        {
          "output_type": "stream",
          "name": "stdout",
          "text": [
            "Ingrese el primer número:2\n",
            "Ingrese el segundo número:3\n",
            "5\n"
          ]
        }
      ]
    },
    {
      "cell_type": "code",
      "source": [
        "##Par o Impar: Escribe un programa que determine si un número introducido por el usuario es par o impar.\n",
        "def par_o_impar(numero):\n",
        "    if numero % 2 == 0:\n",
        "        return \"par\"\n",
        "    else:\n",
        "        return \"impar\"\n",
        "\n",
        "    numero = int(input(\"Introduce un número entero: \"))\n",
        "    resultado = par_o_impar(numero)\n",
        "    print(f\"El número {numero} es {resultado}.\")\n"
      ],
      "metadata": {
        "colab": {
          "base_uri": "https://localhost:8080/"
        },
        "id": "4qLbo49IkrWc",
        "outputId": "00f332cd-bfab-4f02-bd87-22e9ed427e3f"
      },
      "execution_count": 36,
      "outputs": [
        {
          "output_type": "stream",
          "name": "stdout",
          "text": [
            "Introduce un número entero: 2\n",
            "El número 2 es par.\n"
          ]
        }
      ]
    },
    {
      "cell_type": "code",
      "source": [
        "num1 = float(input(\"Introduce el primer número: \"))\n",
        "num2 = float(input(\"Introduce el segundo número: \"))\n",
        "\n",
        "suma = num1 + num2\n",
        "resta = num1 - num2\n",
        "multiplicacion = num1 * num2\n",
        "# Manejo de división por cero\n",
        "if num2 != 0:\n",
        "  division = num1 / num2\n",
        "else:\n",
        "  division = \"No es posible dividir por cero.\"\n",
        "\n",
        "print(\"Suma:\", suma)\n",
        "print(\"Resta:\", resta)\n",
        "print(\"Multiplicación:\", multiplicacion)\n",
        "print(\"División:\", division)\n"
      ],
      "metadata": {
        "colab": {
          "base_uri": "https://localhost:8080/"
        },
        "id": "zFqWXYFdmaWa",
        "outputId": "736a130b-cfbf-4f3e-bedf-dcf3b1e4320e"
      },
      "execution_count": 34,
      "outputs": [
        {
          "output_type": "stream",
          "name": "stdout",
          "text": [
            "Introduce el primer número: 2\n",
            "Introduce el segundo número: 5\n",
            "Suma: 7.0\n",
            "Resta: -3.0\n",
            "Multiplicación: 10.0\n",
            "División: 0.4\n"
          ]
        }
      ]
    }
  ]
}