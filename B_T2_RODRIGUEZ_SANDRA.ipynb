{
  "nbformat": 4,
  "nbformat_minor": 0,
  "metadata": {
    "colab": {
      "provenance": [],
      "authorship_tag": "ABX9TyOTprNreHEKyY2+zqDVP6Zq",
      "include_colab_link": true
    },
    "kernelspec": {
      "name": "python3",
      "display_name": "Python 3"
    },
    "language_info": {
      "name": "python"
    }
  },
  "cells": [
    {
      "cell_type": "markdown",
      "metadata": {
        "id": "view-in-github",
        "colab_type": "text"
      },
      "source": [
        "<a href=\"https://colab.research.google.com/github/Tatytyta/hola_mundo/blob/main/B_T2_RODRIGUEZ_SANDRA.ipynb\" target=\"_parent\"><img src=\"https://colab.research.google.com/assets/colab-badge.svg\" alt=\"Open In Colab\"/></a>"
      ]
    },
    {
      "cell_type": "code",
      "execution_count": null,
      "metadata": {
        "colab": {
          "base_uri": "https://localhost:8080/"
        },
        "id": "KF23brVUgkhs",
        "outputId": "e75f76cf-7e5e-401f-efd2-55db11a87c8a"
      },
      "outputs": [
        {
          "output_type": "stream",
          "name": "stdout",
          "text": [
            "hola mundo\n"
          ]
        }
      ],
      "source": [
        "##1Hola Mundo: Escribe un programa que imprima \"Hola, Mundo!\" en la pantalla.\n",
        "print(\"hola mundo\")"
      ]
    },
    {
      "cell_type": "markdown",
      "source": [],
      "metadata": {
        "id": "M2ZCq14akqNB"
      }
    },
    {
      "cell_type": "code",
      "source": [
        "####2Suma de dos números: Escribe un programa que pida al usuario dos números y los sume.\n",
        "# Solicitar al usuario que ingrese dos números\n",
        "a= int(input(\"Ingrese el primer número:\"))\n",
        "b= int(input(\"Ingrese el segundo número:\"))\n",
        "    # Sumar los dos números\n",
        "suma = a + b\n",
        "    # Mostrar el resultado\n",
        "print(suma)\n"
      ],
      "metadata": {
        "colab": {
          "base_uri": "https://localhost:8080/"
        },
        "id": "b-0prgekkgGE",
        "outputId": "5728e35f-542c-4321-b0cd-2683bd368ffc"
      },
      "execution_count": null,
      "outputs": [
        {
          "output_type": "stream",
          "name": "stdout",
          "text": [
            "Ingrese el primer número:2\n",
            "Ingrese el segundo número:3\n",
            "5\n"
          ]
        }
      ]
    },
    {
      "cell_type": "code",
      "source": [
        "##3Par o Impar: Escribe un programa que determine si un número introducido por el usuario es par o impar.\n",
        "def par_o_impar(numero):\n",
        "    if numero % 2 == 0:\n",
        "        return \"par\"\n",
        "    else:\n",
        "        return \"impar\"\n",
        "\n",
        "    numero = int(input(\"Introduce un número entero: \"))\n",
        "    resultado = par_o_impar(numero)\n",
        "    print(f\"El número {numero} es {resultado}.\")\n"
      ],
      "metadata": {
        "colab": {
          "base_uri": "https://localhost:8080/"
        },
        "id": "4qLbo49IkrWc",
        "outputId": "00f332cd-bfab-4f02-bd87-22e9ed427e3f"
      },
      "execution_count": null,
      "outputs": [
        {
          "output_type": "stream",
          "name": "stdout",
          "text": [
            "Introduce un número entero: 2\n",
            "El número 2 es par.\n"
          ]
        }
      ]
    },
    {
      "cell_type": "code",
      "source": [
        "#4Calculadora básica: Escribe un programa que realice operaciones básicas (suma, resta, multiplicación y división) entre dos números introducidos por el usuario.\n",
        "\n",
        "\n",
        "num1 = float(input(\"Introduce el primer número: \"))\n",
        "num2 = float(input(\"Introduce el segundo número: \"))\n",
        "\n",
        "suma = num1 + num2\n",
        "resta = num1 - num2\n",
        "multiplicacion = num1 * num2\n",
        "# Manejo de división por cero\n",
        "if num2 != 0:\n",
        "  division = num1 / num2\n",
        "else:\n",
        "  division = \"No es posible dividir por cero.\"\n",
        "\n",
        "print(\"Suma:\", suma)\n",
        "print(\"Resta:\", resta)\n",
        "print(\"Multiplicación:\", multiplicacion)\n",
        "print(\"División:\", division)\n"
      ],
      "metadata": {
        "colab": {
          "base_uri": "https://localhost:8080/"
        },
        "id": "zFqWXYFdmaWa",
        "outputId": "736a130b-cfbf-4f3e-bedf-dcf3b1e4320e"
      },
      "execution_count": null,
      "outputs": [
        {
          "output_type": "stream",
          "name": "stdout",
          "text": [
            "Introduce el primer número: 2\n",
            "Introduce el segundo número: 5\n",
            "Suma: 7.0\n",
            "Resta: -3.0\n",
            "Multiplicación: 10.0\n",
            "División: 0.4\n"
          ]
        }
      ]
    },
    {
      "cell_type": "code",
      "source": [
        "#5mayor: Escribe un programa que pida tres números al usuario y determine cuál es el mayor.\n",
        "a= int(input(\"Ingrese el primer número:\"))\n",
        "b= int(input(\"Ingrese el segundo número:\"))\n",
        "c= int(input(\"Ingrese el tercer número\"))\n",
        "# Determinar el mayor número\n",
        "if a >= b and a >= c:\n",
        "  mayor = a\n",
        "elif b >= a and b >= c:\n",
        "  mayor = b\n",
        "else:\n",
        "  mayor = c\n",
        "\n",
        "# Mostrar el resultado al usuario\n",
        "print(\"El mayor número es:\", mayor)\n"
      ],
      "metadata": {
        "id": "d3JVKkoxteia",
        "colab": {
          "base_uri": "https://localhost:8080/"
        },
        "outputId": "a65d75b3-f60f-4b19-da1c-4a6862c6e002"
      },
      "execution_count": null,
      "outputs": [
        {
          "output_type": "stream",
          "name": "stdout",
          "text": [
            "Ingrese el primer número:5\n",
            "Ingrese el segundo número:6\n",
            "Ingrese el tercer número1\n",
            "El mayor número es: 6\n"
          ]
        }
      ]
    },
    {
      "cell_type": "code",
      "source": [
        "#6Cálculo del área de un círculo: Escribe un programa que calcule el área de un círculo a partir de su radio, ingresado por el usuario.\n",
        "import math\n",
        "\n",
        "# Solicitar el radio al usuario\n",
        "radio = float(input(\"Ingrese el radio del círculo: \"))\n",
        "\n",
        "# Calcular el área\n",
        "area = math.pi * radio ** 2\n",
        "\n",
        "# Mostrar el resultado al usuario\n",
        "print(\"El área del círculo es:\", area)"
      ],
      "metadata": {
        "colab": {
          "base_uri": "https://localhost:8080/"
        },
        "id": "SOnKLAJ552UJ",
        "outputId": "74118b68-155a-4748-f533-6f12f9c2472a"
      },
      "execution_count": null,
      "outputs": [
        {
          "output_type": "stream",
          "name": "stdout",
          "text": [
            "Ingrese el radio del círculo: 5\n",
            "El área del círculo es: 78.53981633974483\n"
          ]
        }
      ]
    },
    {
      "cell_type": "code",
      "source": [
        "#7Conversión de grados Celsius a Fahrenheit: Escribe un programa que convierta una temperatura dada en grados Celsius a grados Fahrenheit.\n",
        "def celsius_a_fahrenheit(celsius):\n",
        "  fahrenheit = (celsius * 9/5) + 32\n",
        "  return fahrenheit\n",
        "# Solicitar la temperatura en Celsius al usuario\n",
        "temperatura_celsius = float(input(\"Ingrese la temperatura en grados Celsius: \"))\n",
        "\n",
        "# Convertir a Fahrenheit\n",
        "temperatura_fahrenheit = celsius_a_fahrenheit(temperatura_celsius)\n",
        "\n",
        "# Mostrar el resultado al usuario\n",
        "print(f\"{temperatura_celsius} grados Celsius equivalen a {temperatura_fahrenheit:.2f} grados Fahrenheit.\")"
      ],
      "metadata": {
        "colab": {
          "base_uri": "https://localhost:8080/"
        },
        "id": "4SNT8euJECPa",
        "outputId": "76d6b620-a05f-4488-e759-5e14c894a468"
      },
      "execution_count": null,
      "outputs": [
        {
          "output_type": "stream",
          "name": "stdout",
          "text": [
            "Ingrese la temperatura en grados Celsius: 5\n",
            "5.0 grados Celsius equivalen a 41.00 grados Fahrenheit.\n"
          ]
        }
      ]
    },
    {
      "cell_type": "code",
      "source": [
        "#8Cuenta atrás: Escribe un programa que cuente hacia atrás desde 10 hasta 0.\n",
        "for numero in range(10,0,-1):\n",
        "  print(numero)"
      ],
      "metadata": {
        "colab": {
          "base_uri": "https://localhost:8080/"
        },
        "id": "PF_Mce4qHcOk",
        "outputId": "408aa30c-2a87-4169-972d-d2213dd1aa4e"
      },
      "execution_count": null,
      "outputs": [
        {
          "output_type": "stream",
          "name": "stdout",
          "text": [
            "10\n",
            "9\n",
            "8\n",
            "7\n",
            "6\n",
            "5\n",
            "4\n",
            "3\n",
            "2\n",
            "1\n"
          ]
        }
      ]
    },
    {
      "cell_type": "code",
      "source": [
        "#9.Tabla de multiplicar: Escribe un programa que muestre la tabla de multiplicar de un número introducido por el usuario.\n",
        "a= int(input(\"Ingrese un número:\"))\n",
        "#mostrar la tabla de multiplicar\n",
        "for var in range(1,11):\n",
        "    resultado= a * var\n",
        "    print(f\"{a} * {var}= {resultado}\")"
      ],
      "metadata": {
        "colab": {
          "base_uri": "https://localhost:8080/"
        },
        "id": "kJOaEDVfu8Wn",
        "outputId": "5c828fa7-3afd-45fc-ac6c-f2e86dbf25d9"
      },
      "execution_count": null,
      "outputs": [
        {
          "output_type": "stream",
          "name": "stdout",
          "text": [
            "Ingrese un número:2\n",
            "2 * 1= 2\n",
            "2 * 2= 4\n",
            "2 * 3= 6\n",
            "2 * 4= 8\n",
            "2 * 5= 10\n",
            "2 * 6= 12\n",
            "2 * 7= 14\n",
            "2 * 8= 16\n",
            "2 * 9= 18\n",
            "2 * 10= 20\n"
          ]
        }
      ]
    },
    {
      "cell_type": "code",
      "source": [
        "#10Números primos: Escribe un programa que determine si un número introducido por el usuario es primo.\n",
        "def es_primo(numero):\n",
        "  if numero <= 1:\n",
        "    return False\n",
        "  elif numero <= 3:\n",
        "    return True\n",
        "  elif numero % 2 == 0 or numero % 3 == 0:\n",
        "    return False\n",
        "  i = 5\n",
        "  while i * i <= numero:\n",
        "    if numero % i == 0 or numero % (i + 2) == 0:\n",
        "      return False\n",
        "    i += 6\n",
        "  return True\n",
        "# Solicitar el número al usuario\n",
        "numero = int(input(\"Ingrese un número: \"))\n",
        "# Determinar si el número es primo\n",
        "if es_primo(numero):\n",
        "  print(f\"{numero} es un número primo.\")\n",
        "else:\n",
        "  print(f\"{numero} no es un número primo.\")"
      ],
      "metadata": {
        "colab": {
          "base_uri": "https://localhost:8080/"
        },
        "id": "nwwdXpOgIUpq",
        "outputId": "c5afe2ea-0c59-4d1e-ba84-b6df0367ccd3"
      },
      "execution_count": null,
      "outputs": [
        {
          "output_type": "stream",
          "name": "stdout",
          "text": [
            "Ingrese un número: 8\n",
            "8 no es un número primo.\n"
          ]
        }
      ]
    },
    {
      "cell_type": "code",
      "source": [
        "#11Sumar números hasta un límite: Escribe un programa que sume todos los números naturales hasta un número límite introducido por el usuario.\n",
        "def suma_hasta_limite(limite):\n",
        "  if limite <= 0:\n",
        "    raise ValueError(\"El límite debe ser un número positivo.\")\n",
        "  total = 0\n",
        "  for numero in range(1, limite + 1):\n",
        "    total += numero\n",
        "  return total\n",
        "\n",
        "# Solicitar el límite al usuario\n",
        "limite = int(input(\"Ingrese el límite hasta el cual sumar: \"))\n",
        "\n",
        "# Calcular la suma\n",
        "suma_total = suma_hasta_limite(limite)\n",
        "\n",
        "# Mostrar el resultado al usuario\n",
        "print(f\"La suma de los números naturales hasta {limite} es: {suma_total}\")"
      ],
      "metadata": {
        "colab": {
          "base_uri": "https://localhost:8080/"
        },
        "id": "kZVAj0dhKYQG",
        "outputId": "62ca6bea-f526-4b78-888a-b1c22a553bc2"
      },
      "execution_count": null,
      "outputs": [
        {
          "output_type": "stream",
          "name": "stdout",
          "text": [
            "Ingrese el límite hasta el cual sumar: 8\n",
            "La suma de los números naturales hasta 8 es: 36\n"
          ]
        }
      ]
    },
    {
      "cell_type": "code",
      "source": [
        "#12Invertir una cadena: Escribe un programa que invierta una cadena introducida por el usuario\n",
        "def invertir_cadena(cadena):\n",
        "  cadena_invertida = \"\"\n",
        "  for i in range(len(cadena) - 1, -1, -1):\n",
        "    cadena_invertida += cadena[i]\n",
        "  return cadena_invertida\n",
        "\n",
        "# Solicitar la cadena al usuario\n",
        "cadena = input(\"Ingrese una cadena: \")\n",
        "\n",
        "# Invertir la cadena\n",
        "cadena_invertida = invertir_cadena(cadena)\n",
        "\n",
        "# Mostrar el resultado al usuario\n",
        "print(f\"La cadena invertida es: {cadena_invertida}\")"
      ],
      "metadata": {
        "colab": {
          "base_uri": "https://localhost:8080/"
        },
        "id": "cRSRQKjzNw7b",
        "outputId": "7dcdf81d-05d1-4976-8f76-19fe11fe0ab3"
      },
      "execution_count": null,
      "outputs": [
        {
          "output_type": "stream",
          "name": "stdout",
          "text": [
            "Ingrese una cadena: 6,8,7,9,10\n",
            "La cadena invertida es: 01,9,7,8,6\n"
          ]
        }
      ]
    },
    {
      "cell_type": "code",
      "source": [
        "#13Contar vocales: Escribe un programa que cuente el número de vocales en una cadena introducida por el usuario.\n",
        "def contar_vocales(cadena):\n",
        "  vocales = {\"a\": 0, \"e\": 0, \"i\": 0, \"o\": 0, \"u\": 0}\n",
        "  for letra in cadena.lower():\n",
        "    if letra in vocales:\n",
        "      vocales[letra] += 1\n",
        "  return vocales\n",
        "\n",
        "# Solicitar la cadena al usuario\n",
        "cadena = input(\"Ingrese una cadena: \")\n",
        "\n",
        "# Contar las vocales\n",
        "vocales_contadas = contar_vocales(cadena)\n",
        "\n",
        "# Mostrar el resultado al usuario\n",
        "print(f\"La cadena tiene:\")\n",
        "for vocal, cantidad in vocales_contadas.items():\n",
        "  print(f\"  {vocal}: {cantidad}\")"
      ],
      "metadata": {
        "colab": {
          "base_uri": "https://localhost:8080/"
        },
        "id": "higxY-0ASiYt",
        "outputId": "7a7928f4-395e-4199-97f4-3cb7dec25b02"
      },
      "execution_count": null,
      "outputs": [
        {
          "output_type": "stream",
          "name": "stdout",
          "text": [
            "Ingrese una cadena: a,e,e,a,u,o,o,i,i,i,a\n",
            "La cadena tiene:\n",
            "  a: 3\n",
            "  e: 2\n",
            "  i: 3\n",
            "  o: 2\n",
            "  u: 1\n"
          ]
        }
      ]
    },
    {
      "cell_type": "code",
      "source": [
        "#14Palíndromo: Escribe un programa que determine si una cadena introducida por el usuario es un palíndromo.\n",
        "def es_palindromo(cadena):\n",
        "  cadena_sin_espacios = cadena.replace(\" \", \"\").lower()\n",
        "  cadena_invertida = cadena_sin_espacios[::-1]\n",
        "  return cadena_sin_espacios == cadena_invertida\n",
        "\n",
        "# Solicitar la cadena al usuario\n",
        "cadena = input(\"Ingrese una cadena: \")\n",
        "\n",
        "# Verificar si es palíndromo\n",
        "if es_palindromo(cadena):\n",
        "  print(f\"{cadena} es un palíndromo.\")\n",
        "else:\n",
        "  print(f\"{cadena} no es un palíndromo.\")"
      ],
      "metadata": {
        "colab": {
          "base_uri": "https://localhost:8080/"
        },
        "id": "Tsi2tQ0XT5n9",
        "outputId": "f74d4af7-a23e-4a6d-f90a-2ed28f0d1690"
      },
      "execution_count": null,
      "outputs": [
        {
          "output_type": "stream",
          "name": "stdout",
          "text": [
            "Ingrese una cadena: anilina\n",
            "anilina es un palíndromo.\n"
          ]
        }
      ]
    },
    {
      "cell_type": "code",
      "source": [
        "#15Factorial de un número: Escribe un programa que calcule el factorial de un número introducido por el usuario.\n",
        "def factorial(numero):\n",
        "  if numero < 0:\n",
        "    return None\n",
        "  elif numero == 0:\n",
        "    return 1\n",
        "  else:\n",
        "    return numero * factorial(numero - 1)\n",
        "\n",
        "# Solicitar el número al usuario\n",
        "numero = int(input(\"Ingrese un número entero no negativo: \"))\n",
        "\n",
        "# Calcular el factorial\n",
        "if numero >= 0:\n",
        "  factorial_calculado = factorial(numero)\n",
        "  print(f\"El factorial de {numero} es: {factorial_calculado}\")\n",
        "else:\n",
        "  print(\"No se puede calcular el factorial de un número negativo.\")"
      ],
      "metadata": {
        "colab": {
          "base_uri": "https://localhost:8080/"
        },
        "id": "_gPwLZN3Xbsh",
        "outputId": "ca54796f-a7ce-426c-e1d1-ee05007e3369"
      },
      "execution_count": null,
      "outputs": [
        {
          "output_type": "stream",
          "name": "stdout",
          "text": [
            "Ingrese un número entero no negativo: 12\n",
            "El factorial de 12 es: 479001600\n"
          ]
        }
      ]
    },
    {
      "cell_type": "code",
      "source": [
        "#16Generar números aleatorios: Escribe un programa que genere y muestre 5 números aleatorios entre 1 y 100.\n",
        "import random\n",
        "# Generar y mostrar 5 números aleatorios entre 1 y 100\n",
        "for _ in range(5):\n",
        "  numero_aleatorio = random.randint(1, 100)\n",
        "  print(numero_aleatorio)"
      ],
      "metadata": {
        "colab": {
          "base_uri": "https://localhost:8080/"
        },
        "id": "tlKVlJH3Ylmx",
        "outputId": "d2b9a1ea-6b91-4892-ef36-4f52bf5a72ca"
      },
      "execution_count": null,
      "outputs": [
        {
          "output_type": "stream",
          "name": "stdout",
          "text": [
            "50\n",
            "49\n",
            "58\n",
            "34\n",
            "59\n"
          ]
        }
      ]
    },
    {
      "cell_type": "code",
      "source": [
        "#17Calculadora de índice de masa corporal (IMC): Escribe un programa que calcule el índice de masa corporal (IMC) a partir del peso y la altura introducidos por el usuario.\n",
        "def calcular_imc(peso, altura):\n",
        "  if altura <= 0:\n",
        "    raise ValueError(\"La altura debe ser un valor positivo.\")\n",
        "  return peso / (altura * altura)\n",
        "\n",
        "def mostrar_resultado(imc):\n",
        "\n",
        "  if imc < 18.5:\n",
        "    clasificacion = \"Bajo peso\"\n",
        "  elif imc < 25:\n",
        "    clasificacion = \"Peso normal\"\n",
        "  elif imc < 30:\n",
        "    clasificacion = \"Sobrepeso\"\n",
        "  elif imc < 35:\n",
        "    clasificacion = \"Obesidad grado 1\"\n",
        "  elif imc < 40:\n",
        "    clasificacion = \"Obesidad grado 2\"\n",
        "  else:\n",
        "    clasificacion = \"Obesidad grado 3\"\n",
        "  print(f\"Su IMC es de {imc:.2f} y se clasifica como {clasificacion}.\")\n",
        "\n",
        "# Solicitar el peso al usuario\n",
        "peso = float(input(\"Ingrese su peso en kg: \"))\n",
        "\n",
        "# Solicitar la altura al usuario\n",
        "altura = float(input(\"Ingrese su altura en metros: \"))\n",
        "\n",
        "try:\n",
        "  # Calcular el IMC\n",
        "  imc = calcular_imc(peso, altura)\n",
        "\n",
        "  # Mostrar el resultado\n",
        "  mostrar_resultado(imc)\n",
        "    # Mostrar el resultado\n",
        "  mostrar_resultado(imc)\n",
        "except ValueError as error:\n",
        "  print(f\"Error: {error}\")\n"
      ],
      "metadata": {
        "colab": {
          "base_uri": "https://localhost:8080/"
        },
        "id": "2jxTlcAuZPCI",
        "outputId": "8b4d2a4a-e5a8-4fba-a51e-964c0178355d"
      },
      "execution_count": 45,
      "outputs": [
        {
          "output_type": "stream",
          "name": "stdout",
          "text": [
            "Ingrese su peso en kg: 50\n",
            "Ingrese su altura en metros: 162\n",
            "Su IMC es de 0.00 y se clasifica como Bajo peso.\n",
            "Su IMC es de 0.00 y se clasifica como Bajo peso.\n"
          ]
        }
      ]
    }
  ]
}